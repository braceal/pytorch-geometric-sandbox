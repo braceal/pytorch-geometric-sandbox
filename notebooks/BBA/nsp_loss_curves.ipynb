{
 "cells": [
  {
   "cell_type": "code",
   "execution_count": null,
   "id": "informal-lancaster",
   "metadata": {},
   "outputs": [],
   "source": [
    "from pathlib import Path\n",
    "import pandas as pd\n",
    "import numpy as np\n",
    "from mpro.plot.utils import plot_tsne"
   ]
  },
  {
   "cell_type": "code",
   "execution_count": null,
   "id": "consistent-wales",
   "metadata": {},
   "outputs": [],
   "source": [
    "pd.read_csv(\"/homes/abrace/src/pytorch-geometric-sandbox/test_plots/gnn-lstm--nsp1016-run-0/loss.csv\", index_col=\"epoch\").plot()"
   ]
  },
  {
   "cell_type": "code",
   "execution_count": null,
   "id": "posted-mongolia",
   "metadata": {},
   "outputs": [],
   "source": [
    "run_path = Path(\"/homes/abrace/src/pytorch-geometric-sandbox/test_plots/gnn-lstm--nsp1016-run-0/1FME-1_results\")\n",
    "output = {\n",
    "    \"graph_embeddings\": np.load(run_path / \"graph_embeddings.npy\"),\n",
    "    \"node_embeddings\": np.load(run_path / \"node_embeddings.npy\"),\n",
    "    \"node_labels\": np.load(run_path / \"node_labels.npy\"),\n",
    "    \"rmsd\": np.load(run_path / \"rmsd.npy\"),\n",
    "}"
   ]
  },
  {
   "cell_type": "code",
   "execution_count": null,
   "id": "other-thanks",
   "metadata": {},
   "outputs": [],
   "source": [
    "paint = {\"rmsd\": output[\"rmsd\"]}\n",
    "fig = plot_tsne(output[\"graph_embeddings\"][:, 0:3], paint, color=\"rmsd\")\n",
    "fig.show()"
   ]
  },
  {
   "cell_type": "code",
   "execution_count": null,
   "id": "catholic-publicity",
   "metadata": {},
   "outputs": [],
   "source": [
    "from mpro.analysis.projections import run_tsne\n",
    "run_path = Path(\"/homes/abrace/src/pytorch-geometric-sandbox/test_plots/gnn-lstm--nsp1016-run-0/nsp_results/\")\n",
    "\n",
    "saved = True\n",
    "if not saved:\n",
    "    np.save(run_path / \"graph_embeddings.npy\", output[\"graph_embeddings\"])\n",
    "    np.save(run_path / \"node_embeddings.npy\", output[\"node_embeddings\"])\n",
    "    np.save(run_path / \"node_labels.npy\", output[\"node_labels\"])\n",
    "    np.save(run_path / \"rmsd.npy\", output[\"rmsd\"])\n",
    "else:\n",
    "    output = {\n",
    "        \"graph_embeddings\": np.load(run_path / \"graph_embeddings.npy\"),\n",
    "        \"node_embeddings\": np.load(run_path / \"node_embeddings.npy\"),\n",
    "        \"node_labels\": np.load(run_path / \"node_labels.npy\"),\n",
    "        \"rmsd\": np.load(run_path / \"rmsd.npy\"),\n",
    "    }\n",
    "    \n",
    "tsne_embeddings_path = run_path / \"graph_tsne_embeddings.npy\"\n",
    "if tsne_embeddings_path.exists():\n",
    "    tsne_embeddings = np.load(tsne_embeddings_path)\n",
    "else:\n",
    "    tsne_embeddings = run_tsne(output[\"graph_embeddings\"], verbose=2)\n",
    "    np.save(tsne_embeddings_path, tsne_embeddings)"
   ]
  },
  {
   "cell_type": "code",
   "execution_count": null,
   "id": "positive-theater",
   "metadata": {},
   "outputs": [],
   "source": [
    "import json\n",
    "com_dist_path = \"/homes/abrace/data/nsp10_16/nsp1016_448_cs1.3_distance.json\"\n",
    "with open(com_dist_path, \"r\") as f:\n",
    "    dist = json.load(f)\n",
    "    \n",
    "# Sort according to md_run dir run0056_000001\n",
    "dist = sorted(dist, key=lambda traj: Path(traj[0][\"dcd_file\"]).parent)\n",
    "# Extract distances\n",
    "distances = np.array([datum[\"dist\"] for traj in dist for datum in traj])\n",
    "mask = (distances > 32.1) & (distances < 32.3)"
   ]
  },
  {
   "cell_type": "code",
   "execution_count": null,
   "id": "atomic-coaching",
   "metadata": {},
   "outputs": [],
   "source": [
    "paint = {\"rmsd\": output[\"rmsd\"][mask], \"distance\": distances[mask]}\n",
    "fig = plot_tsne(tsne_embeddings[mask], paint, color=\"distance\")\n",
    "fig.show()"
   ]
  },
  {
   "cell_type": "code",
   "execution_count": null,
   "id": "measured-prague",
   "metadata": {},
   "outputs": [],
   "source": [
    "df = pd.DataFrame(output[\"graph_embeddings\"][:1000])\n",
    "df.plot(subplots=True, figsize=(10,10))"
   ]
  },
  {
   "cell_type": "code",
   "execution_count": null,
   "id": "unsigned-connection",
   "metadata": {},
   "outputs": [],
   "source": [
    "pd.DataFrame(distances)"
   ]
  },
  {
   "cell_type": "code",
   "execution_count": null,
   "id": "verbal-president",
   "metadata": {},
   "outputs": [],
   "source": [
    "amount = 10000\n",
    "mask = (distances > 45)\n",
    "paint = {\"rmsd\": output[\"rmsd\"][mask][:amount], \"distance\": distances[mask][:amount]}\n",
    "fig = plot_tsne(output[\"graph_embeddings\"][mask][:amount, 0:3], paint, color=\"rmsd\")\n",
    "fig.show()"
   ]
  },
  {
   "cell_type": "code",
   "execution_count": null,
   "id": "helpful-quarter",
   "metadata": {},
   "outputs": [],
   "source": [
    "pd.DataFrame(distances).hist()"
   ]
  },
  {
   "cell_type": "code",
   "execution_count": null,
   "id": "positive-found",
   "metadata": {},
   "outputs": [],
   "source": [
    "amount = 10000\n",
    "mask = (distances > 45)\n",
    "paint = {\"rmsd\": output[\"rmsd\"][:amount], \"distance\": distances[:amount]}\n",
    "fig = plot_tsne(output[\"node_embeddings\"][:amount, 0:3], paint, color=\"rmsd\")\n",
    "fig.show()"
   ]
  },
  {
   "cell_type": "code",
   "execution_count": null,
   "id": "gorgeous-parking",
   "metadata": {},
   "outputs": [],
   "source": []
  }
 ],
 "metadata": {
  "kernelspec": {
   "display_name": "Python 3",
   "language": "python",
   "name": "python3"
  },
  "language_info": {
   "codemirror_mode": {
    "name": "ipython",
    "version": 3
   },
   "file_extension": ".py",
   "mimetype": "text/x-python",
   "name": "python",
   "nbconvert_exporter": "python",
   "pygments_lexer": "ipython3",
   "version": "3.7.10"
  }
 },
 "nbformat": 4,
 "nbformat_minor": 5
}
