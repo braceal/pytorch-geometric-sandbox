{
 "cells": [
  {
   "cell_type": "code",
   "execution_count": 1,
   "id": "warming-pharmaceutical",
   "metadata": {},
   "outputs": [
    {
     "data": {
      "application/vnd.jupyter.widget-view+json": {
       "model_id": "0fb81fdf83d146a89afa5bc1926fe800",
       "version_major": 2,
       "version_minor": 0
      },
      "text/plain": []
     },
     "metadata": {},
     "output_type": "display_data"
    }
   ],
   "source": [
    "%load_ext autoreload\n",
    "%autoreload 2\n",
    "%matplotlib inline\n",
    "\n",
    "from pathlib import Path\n",
    "import numpy as np\n",
    "from mdgraph.models.gnn_lstm.inference import generate_embeddings\n",
    "from mpro.analysis.projections import run_tsne\n",
    "from mpro.plot.utils import plot_tsne"
   ]
  },
  {
   "cell_type": "code",
   "execution_count": 33,
   "id": "tired-february",
   "metadata": {},
   "outputs": [
    {
     "name": "stderr",
     "output_type": "stream",
     "text": [
      "\r",
      "  0%|          | 0/498 [00:00<?, ?it/s]"
     ]
    },
    {
     "name": "stdout",
     "output_type": "stream",
     "text": [
      "validating with rmsd\n"
     ]
    },
    {
     "name": "stderr",
     "output_type": "stream",
     "text": [
      "100%|██████████| 498/498 [11:18<00:00,  1.36s/it]\n"
     ]
    },
    {
     "name": "stdout",
     "output_type": "stream",
     "text": [
      "graph_embeddings (509952, 10)\n",
      "node_embeddings (498, 28672, 10)\n",
      "node_labels (498, 28672)\n",
      "rmsd (509952,)\n"
     ]
    }
   ],
   "source": [
    "output, loss = generate_embeddings(\n",
    "    model_cfg_path=\"/homes/abrace/src/pytorch-geometric-sandbox/test_plots/production-gnn-lstm-run-1/args.json\",\n",
    "    h5_file=\"/homes/abrace/src/pytorch-geometric-sandbox/test/data/1FME-1.h5\",\n",
    "    model_weights_path=\"/homes/abrace/src/pytorch-geometric-sandbox/test_plots/production-gnn-lstm-run-1/checkpoints/epoch-10-20210302-113230.pt\",\n",
    "    inference_batch_size=1024,\n",
    ")"
   ]
  },
  {
   "cell_type": "code",
   "execution_count": 2,
   "id": "binary-orleans",
   "metadata": {},
   "outputs": [],
   "source": [
    "from pathlib import Path\n",
    "import numpy as np\n",
    "run_path = Path(\"/homes/abrace/src/pytorch-geometric-sandbox/test_plots/production-gnn-lstm-run-1\")\n",
    "\n",
    "saved = True\n",
    "if not saved:\n",
    "    np.save(run_path / \"graph_embeddings.npy\", output[\"graph_embeddings\"])\n",
    "    np.save(run_path / \"node_embeddings.npy\", output[\"node_embeddings\"])\n",
    "    np.save(run_path / \"node_labels.npy\", output[\"node_labels\"])\n",
    "    np.save(run_path / \"rmsd.npy\", output[\"rmsd\"])\n",
    "else:\n",
    "    output = {\n",
    "        \"graph_embeddings\": np.load(run_path / \"graph_embeddings.npy\"),\n",
    "        \"node_embeddings\": np.load(run_path / \"node_embeddings.npy\"),\n",
    "        \"node_labels\": np.load(run_path / \"node_labels.npy\"),\n",
    "        \"rmsd\": np.load(run_path / \"rmsd.npy\"),\n",
    "    }"
   ]
  },
  {
   "cell_type": "code",
   "execution_count": 3,
   "id": "mediterranean-identifier",
   "metadata": {},
   "outputs": [],
   "source": [
    "tsne_embeddings_path = run_path / \"graph_tsne_embeddings.npy\"\n",
    "if tsne_embeddings_path.exists():\n",
    "    tsne_embeddings = np.load(tsne_embeddings_path)\n",
    "else:\n",
    "    tsne_embeddings = run_tsne(output[\"graph_embeddings\"], verbose=2)\n",
    "    np.save(tsne_embeddings_path, tsne_embeddings)"
   ]
  },
  {
   "cell_type": "code",
   "execution_count": 4,
   "id": "brilliant-prayer",
   "metadata": {},
   "outputs": [],
   "source": [
    "paint = {\"rmsd\": output[\"rmsd\"]}\n",
    "fig = plot_tsne(tsne_embeddings, paint, color=\"rmsd\")"
   ]
  },
  {
   "cell_type": "code",
   "execution_count": null,
   "id": "attended-removal",
   "metadata": {},
   "outputs": [],
   "source": [
    "fig.show()"
   ]
  },
  {
   "cell_type": "code",
   "execution_count": null,
   "id": "eleven-accountability",
   "metadata": {},
   "outputs": [],
   "source": []
  }
 ],
 "metadata": {
  "kernelspec": {
   "display_name": "Python 3",
   "language": "python",
   "name": "python3"
  },
  "language_info": {
   "codemirror_mode": {
    "name": "ipython",
    "version": 3
   },
   "file_extension": ".py",
   "mimetype": "text/x-python",
   "name": "python",
   "nbconvert_exporter": "python",
   "pygments_lexer": "ipython3",
   "version": "3.7.10"
  }
 },
 "nbformat": 4,
 "nbformat_minor": 5
}
