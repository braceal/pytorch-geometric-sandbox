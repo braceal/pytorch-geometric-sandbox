{
 "cells": [
  {
   "cell_type": "code",
   "execution_count": null,
   "id": "recent-nudist",
   "metadata": {},
   "outputs": [],
   "source": [
    "%load_ext autoreload\n",
    "%autoreload 2\n",
    "%matplotlib inline\n",
    "import pandas as pd\n",
    "from pathlib import Path\n",
    "from mdgraph.data.preprocess import parallel_preprocess\n",
    "from mdgraph.data.utils import concatenate_h5, parse_h5"
   ]
  },
  {
   "cell_type": "code",
   "execution_count": null,
   "id": "disabled-cameroon",
   "metadata": {},
   "outputs": [],
   "source": [
    "traj_files = sorted(Path(\"/homes/heng.ma/Research/FoldingTraj/1FME-0/1FME-0-protein/\").glob(\"*dcd\"))\n",
    "topology_files = [\"/homes/abrace/src/pytorch-geometric-sandbox/test/data/1FME-unfolded.pdb\"] * len(traj_files)\n",
    "ref_topology = \"/homes/abrace/src/pytorch-geometric-sandbox/test/data/1FME-folded.pdb\"\n",
    "save_files = [f\"/homes/abrace/tmp/test_pyG_preprocess/test_{i}.h5\" for i in range(len(traj_files))]\n",
    "concatenated_save_file = \"/homes/abrace/src/pytorch-geometric-sandbox/test/data/BBA-full.h5\""
   ]
  },
  {
   "cell_type": "code",
   "execution_count": null,
   "id": "indian-partner",
   "metadata": {},
   "outputs": [],
   "source": [
    "parallel_preprocess(\n",
    "    topology_files,\n",
    "    traj_files,\n",
    "    ref_topology,\n",
    "    save_files,\n",
    "    cutoff=8.0,\n",
    "    selection=\"protein and name CA\",\n",
    "    print_every=10000,\n",
    "    num_workers=20,\n",
    ")"
   ]
  },
  {
   "cell_type": "code",
   "execution_count": null,
   "id": "bigger-county",
   "metadata": {},
   "outputs": [],
   "source": [
    "concatenate_h5(save_files, concatenated_save_file)"
   ]
  },
  {
   "cell_type": "code",
   "execution_count": null,
   "id": "emotional-factory",
   "metadata": {},
   "outputs": [],
   "source": [
    "data = parse_h5(\n",
    "    concatenated_save_file,\n",
    "    fields=[\"contact_map_values\"]#\"contact_map\", \"contact_map_values\", \"rmsd\", \"fnc\", \"point_cloud\", \"amino_acids\"]\n",
    ")"
   ]
  },
  {
   "cell_type": "code",
   "execution_count": null,
   "id": "dependent-deviation",
   "metadata": {},
   "outputs": [],
   "source": [
    "vals = data[\"contact_map_values\"]"
   ]
  },
  {
   "cell_type": "code",
   "execution_count": null,
   "id": "worst-outline",
   "metadata": {},
   "outputs": [],
   "source": [
    "import math\n",
    "import numpy as np\n",
    "import pandas as pd\n",
    "vals = np.concatenate(vals)"
   ]
  },
  {
   "cell_type": "code",
   "execution_count": null,
   "id": "complex-haven",
   "metadata": {},
   "outputs": [],
   "source": [
    "inverse_vals = 1 / np.where(vals == 0, 1, vals)\n",
    "log_inverse_vals = np.log(inverse_vals)\n",
    "neglog = -1 * np.log(np.where(vals == 0, 1, vals))\n",
    "df = pd.DataFrame({\"vals\": vals, \"inverse_vals\": inverse_vals, \"log_inverse_vals\": log_inverse_vals, \"neglog\": neglog})"
   ]
  },
  {
   "cell_type": "code",
   "execution_count": null,
   "id": "nutritional-shade",
   "metadata": {},
   "outputs": [],
   "source": [
    "df[\"vals\"].hist()"
   ]
  },
  {
   "cell_type": "code",
   "execution_count": null,
   "id": "compatible-mouse",
   "metadata": {},
   "outputs": [],
   "source": [
    "df[\"inverse_vals\"].hist(bins=100)"
   ]
  },
  {
   "cell_type": "code",
   "execution_count": null,
   "id": "orange-algebra",
   "metadata": {},
   "outputs": [],
   "source": [
    "df[\"log_inverse_vals\"].hist(bins=100)"
   ]
  },
  {
   "cell_type": "code",
   "execution_count": null,
   "id": "according-conditions",
   "metadata": {},
   "outputs": [],
   "source": [
    "df[\"inverse_vals\"].plot()"
   ]
  },
  {
   "cell_type": "code",
   "execution_count": null,
   "id": "lovely-vacation",
   "metadata": {},
   "outputs": [],
   "source": [
    "df[\"neglog\"].hist(bins=100)"
   ]
  },
  {
   "cell_type": "markdown",
   "id": "alert-above",
   "metadata": {},
   "source": [
    "# Test Data\n",
    "\n",
    "- Individual preprocessed H5 files: `/lambda_stor/homes/heng.ma/Research/FoldingTraj/biophys_analysis/traj_analysis/h5_save/1FME-1/`"
   ]
  },
  {
   "cell_type": "code",
   "execution_count": null,
   "id": "quick-disabled",
   "metadata": {},
   "outputs": [],
   "source": [
    "path = \"/lambda_stor/homes/heng.ma/Research/FoldingTraj/biophys_analysis/traj_analysis/h5_save/1FME-1/\"\n",
    "concatenated_save_file = \"/homes/abrace/src/pytorch-geometric-sandbox/test/data/1FME-1.h5\"\n",
    "h5_files = sorted(Path(path).glob(\"*.h5\"))"
   ]
  },
  {
   "cell_type": "code",
   "execution_count": null,
   "id": "inner-ranch",
   "metadata": {},
   "outputs": [],
   "source": [
    "concatenate_h5(h5_files, concatenated_save_file)"
   ]
  },
  {
   "cell_type": "markdown",
   "id": "rising-mapping",
   "metadata": {},
   "source": [
    "# Train Data\n",
    "\n",
    "- Individual preprocessed H5 files: `/lambda_stor/homes/heng.ma/Research/FoldingTraj/biophys_analysis/traj_analysis/h5_save/1FME-0/`"
   ]
  },
  {
   "cell_type": "code",
   "execution_count": null,
   "id": "sharing-irrigation",
   "metadata": {
    "scrolled": true
   },
   "outputs": [],
   "source": [
    "path = \"/lambda_stor/homes/heng.ma/Research/FoldingTraj/biophys_analysis/traj_analysis/h5_save/1FME-0/\"\n",
    "concatenated_save_file = \"/homes/abrace/src/pytorch-geometric-sandbox/test/data/1FME-0.h5\"\n",
    "h5_files = sorted(Path(path).glob(\"*.h5\"))"
   ]
  },
  {
   "cell_type": "code",
   "execution_count": null,
   "id": "unnecessary-discrimination",
   "metadata": {},
   "outputs": [],
   "source": [
    "concatenate_h5(h5_files, concatenated_save_file)"
   ]
  },
  {
   "cell_type": "markdown",
   "id": "delayed-bookmark",
   "metadata": {},
   "source": [
    "# Stream-AI-MD Data"
   ]
  },
  {
   "cell_type": "code",
   "execution_count": null,
   "id": "exciting-ghost",
   "metadata": {},
   "outputs": [],
   "source": [
    "path = \"/homes/abrace/data/bba/deepdrivemd_runs/bba_28_cs1.2/bba_28_cs1.2_h5\"\n",
    "concatenated_save_file = \"/homes/abrace/src/pytorch-geometric-sandbox/test/data/1FME-stream-ai-md.h5\"\n",
    "h5_files = sorted(Path(path).glob(\"*.h5\"))"
   ]
  },
  {
   "cell_type": "code",
   "execution_count": null,
   "id": "isolated-playlist",
   "metadata": {},
   "outputs": [],
   "source": [
    "concatenate_h5(h5_files, concatenated_save_file)"
   ]
  },
  {
   "cell_type": "code",
   "execution_count": null,
   "id": "cooperative-timeline",
   "metadata": {},
   "outputs": [],
   "source": [
    "import h5py\n",
    "from mdtools.writers import write_contact_map, write_point_cloud, write_rmsd, write_fraction_of_contacts\n",
    "def compute_subset(data: dict, every_n_frames: int = 1):\n",
    "    return {field: data[field][::every_n_frames] for field in data}\n",
    "\n",
    "def write_h5(data: dict, path: str):\n",
    "    \n",
    "    # Get row col format for contact maps\n",
    "    rows, cols = [], []\n",
    "    for cm in data[\"contact_map\"]:\n",
    "        cm = cm.reshape(2, -1)\n",
    "        rows.append(cm[0])\n",
    "        cols.append(cm[1])\n",
    "        \n",
    "    with h5py.File(path, \"w\", swmr=False) as f:\n",
    "        write_contact_map(f, rows, cols)\n",
    "        #write_point_cloud(f, data[\"point_cloud\"])\n",
    "        write_rmsd(f, data[\"rmsd\"])\n",
    "        #write_fraction_of_contacts(f, data[\"fnc\"])"
   ]
  },
  {
   "cell_type": "code",
   "execution_count": null,
   "id": "unsigned-boost",
   "metadata": {},
   "outputs": [],
   "source": [
    "data = parse_h5(concatenated_save_file, fields=[\"contact_map\", \"rmsd\"])"
   ]
  },
  {
   "cell_type": "code",
   "execution_count": null,
   "id": "private-advocacy",
   "metadata": {},
   "outputs": [],
   "source": [
    "subset_5 = compute_subset(data, 5)"
   ]
  },
  {
   "cell_type": "code",
   "execution_count": null,
   "id": "auburn-exposure",
   "metadata": {},
   "outputs": [],
   "source": [
    "write_h5(subset_5, \"/homes/abrace/src/pytorch-geometric-sandbox/test/data/1FME-stream-ai-md-subset-5.h5\")"
   ]
  },
  {
   "cell_type": "code",
   "execution_count": null,
   "id": "ahead-winner",
   "metadata": {},
   "outputs": [],
   "source": []
  }
 ],
 "metadata": {
  "kernelspec": {
   "display_name": "Python 3",
   "language": "python",
   "name": "python3"
  },
  "language_info": {
   "codemirror_mode": {
    "name": "ipython",
    "version": 3
   },
   "file_extension": ".py",
   "mimetype": "text/x-python",
   "name": "python",
   "nbconvert_exporter": "python",
   "pygments_lexer": "ipython3",
   "version": "3.7.10"
  }
 },
 "nbformat": 4,
 "nbformat_minor": 5
}
